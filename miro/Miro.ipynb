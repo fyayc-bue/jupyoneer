{
 "cells": [
  {
   "cell_type": "markdown",
   "id": "f9376a67-c242-4006-aa4c-164a8d24747f",
   "metadata": {},
   "source": [
    "# Miro API\n",
    "Access your boards on Miro using the API.\n",
    "\n",
    "## Prerequisites\n",
    "1. A Miro Developer account\n",
    "1. [Miro API Credentials](https://developers.miro.com/docs/rest-api-build-your-first-hello-world-app) -> Client ID: 30................88 (20 Digits), Client Secret (33 Alpahanumeric)\n",
    "1. Board URL and token stored in ```credentials.json```\n",
    "1. Access to at least one board on miro"
   ]
  },
  {
   "cell_type": "code",
   "execution_count": null,
   "id": "7b76fb2d-02ff-4379-be1e-4af329505aa2",
   "metadata": {},
   "outputs": [],
   "source": [
    "import requests as req\n",
    "import yaml\n",
    "import json"
   ]
  },
  {
   "cell_type": "code",
   "execution_count": null,
   "id": "8a0118be-d66b-4a41-869d-b6cd8599a86f",
   "metadata": {},
   "outputs": [],
   "source": [
    "with open('credentials.yaml') as src:\n",
    "    credentials = yaml.safe_load(src)\n",
    "assert credentials.get('token') is not None"
   ]
  },
  {
   "cell_type": "code",
   "execution_count": null,
   "id": "4a358df3-9807-41c3-b88f-5f00caa73992",
   "metadata": {},
   "outputs": [],
   "source": [
    "api_url = 'https://api.miro.com/v2/'"
   ]
  },
  {
   "cell_type": "code",
   "execution_count": null,
   "id": "011a2724-9c86-4ed1-9776-664edbe718e8",
   "metadata": {},
   "outputs": [],
   "source": [
    "headers = { \n",
    "    'accept': \"application/json\",\n",
    "    'authorization': f\"Bearer {credentials['token']}\",\n",
    "}"
   ]
  },
  {
   "cell_type": "markdown",
   "id": "57b1a9ee-59bf-4be9-9be0-53a4a4426164",
   "metadata": {},
   "source": [
    "## Smoke test - List boards"
   ]
  },
  {
   "cell_type": "code",
   "execution_count": null,
   "id": "24dfe230-fbf1-408c-b631-df3ee534814b",
   "metadata": {},
   "outputs": [],
   "source": [
    "response = req.get(api_url + 'boards', headers=headers)\n",
    "response"
   ]
  },
  {
   "cell_type": "code",
   "execution_count": null,
   "id": "20f2f440-9b6c-4995-86a3-1a17fb184548",
   "metadata": {},
   "outputs": [],
   "source": [
    "response.json()"
   ]
  },
  {
   "cell_type": "markdown",
   "id": "b3aa55b4-c732-4ec7-b36d-54a7eadc188e",
   "metadata": {},
   "source": [
    "## Access demo board"
   ]
  },
  {
   "cell_type": "code",
   "execution_count": null,
   "id": "a5faa762-8384-48fd-97a9-61c13c2edb33",
   "metadata": {},
   "outputs": [],
   "source": [
    "test_board_id = 'uXjVMNBkH4o='"
   ]
  },
  {
   "cell_type": "code",
   "execution_count": null,
   "id": "bd934eb2-d42e-41fa-aeed-c9d9e9e5a5fe",
   "metadata": {},
   "outputs": [],
   "source": [
    "content = req.get(api_url + 'boards/' + test_board_id + '/items?limit=50', headers=headers)\n",
    "content"
   ]
  },
  {
   "cell_type": "code",
   "execution_count": null,
   "id": "87b8ce79-439b-454c-a978-6a585fa76026",
   "metadata": {},
   "outputs": [],
   "source": [
    "content.json()"
   ]
  },
  {
   "cell_type": "code",
   "execution_count": null,
   "id": "c4d2edcb-aede-40b1-bbd6-38f925fcf406",
   "metadata": {},
   "outputs": [],
   "source": []
  }
 ],
 "metadata": {
  "kernelspec": {
   "display_name": "Python 3 (ipykernel)",
   "language": "python",
   "name": "python3"
  },
  "language_info": {
   "codemirror_mode": {
    "name": "ipython",
    "version": 3
   },
   "file_extension": ".py",
   "mimetype": "text/x-python",
   "name": "python",
   "nbconvert_exporter": "python",
   "pygments_lexer": "ipython3",
   "version": "3.9.16"
  }
 },
 "nbformat": 4,
 "nbformat_minor": 5
}
